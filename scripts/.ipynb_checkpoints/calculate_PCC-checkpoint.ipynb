{
 "cells": [
  {
   "cell_type": "code",
   "execution_count": 43,
   "id": "a539b496",
   "metadata": {},
   "outputs": [],
   "source": [
    "import numpy as np\n",
    "import matplotlib.pyplot as plt\n",
    "from scipy.stats import pearsonr, sem\n",
    "from scipy import stats\n",
    "from itertools import chain\n",
    "%matplotlib inline  "
   ]
  },
  {
   "cell_type": "code",
   "execution_count": 3,
   "id": "29ebf118",
   "metadata": {},
   "outputs": [],
   "source": [
    "def get_element(ele_index, file):\n",
    "    if ele_index == 0:\n",
    "        return [file[i][ele_index] for i in range(len(file))]\n",
    "    else:\n",
    "        return [float(file[i][ele_index]) for i in range(len(file))]"
   ]
  },
  {
   "cell_type": "code",
   "execution_count": 52,
   "id": "1c045c25",
   "metadata": {},
   "outputs": [
    {
     "name": "stdout",
     "output_type": "stream",
     "text": [
      "PCC of each model: [0.682 0.784 0.721 0.77 ]\n",
      "Mean: 0.739\n",
      "SEM: 0.023\n",
      "PCC of concatinated model: 0.774\n"
     ]
    }
   ],
   "source": [
    "# --------------------- For TRUE CV PCC calculations ---------------------#\n",
    "\n",
    "# Load prediction fie\n",
    "syn1 = np.loadtxt(\"./../results/A2403.true/syn1.pred\", dtype=str)\n",
    "syn2 = np.loadtxt(\"./../results/A2403.true/syn2.pred\", dtype=str)\n",
    "syn3 = np.loadtxt(\"./../results/A2403.true/syn3.pred\", dtype=str)\n",
    "syn4 = np.loadtxt(\"./../results/A2403.true/syn4.pred\", dtype=str)\n",
    "\n",
    "# Extract the elements\n",
    "peptides = get_element(0, syn1)\n",
    "measure = get_element(1, syn1)\n",
    "pred1 = get_element(2, syn1)\n",
    "pred2 = get_element(2, syn2)\n",
    "pred3 = get_element(2, syn3)\n",
    "pred4 = get_element(2, syn4)\n",
    "\n",
    "# Calculate average prediction values\n",
    "pred = list(zip(pred1, pred2, pred3, pred4))\n",
    "mean_pred = [np.mean(pred[i][0:4]) for i in range(len(pred))]\n",
    "\n",
    "\n",
    "# Performance evaluation\n",
    "\n",
    "# PCC for each model\n",
    "model_perf = []\n",
    "for i in [pred1, pred2, pred3, pred4]:\n",
    "    model_perf.append(pearsonr(np.asarray(measure), np.asarray(i))[0])\n",
    "print(\"PCC of each model:\", np.round(model_perf, 3))\n",
    "print(\"Mean:\", np.round(np.mean(model_perf), 3))\n",
    "print(\"SEM:\", np.round(sem(model_perf), 3))\n",
    "\n",
    "# PCC for concatenated model\n",
    "evel_perf = pearsonr(np.asarray(measure), np.asarray(mean_pred))[0]\n",
    "print(\"PCC of concatinated model:\", np.round(evel_perf, 3))"
   ]
  },
  {
   "cell_type": "code",
   "execution_count": 53,
   "id": "9b9de5ce",
   "metadata": {},
   "outputs": [
    {
     "name": "stdout",
     "output_type": "stream",
     "text": [
      "PCC of each model: [0.824 0.896 0.704 0.366 0.816]\n",
      "Mean: 0.721\n",
      "SEM: 0.094\n",
      "PCC of concatinated model: 0.726\n"
     ]
    }
   ],
   "source": [
    "# --------------------- For FAKE CV PCC calculations ---------------------#\n",
    "\n",
    "# Load prediction fie\n",
    "syn1 = np.loadtxt(\"./../results/A2403.fake/c000.pred\", dtype=str)\n",
    "syn2 = np.loadtxt(\"./../results/A2403.fake/c001.pred\", dtype=str)\n",
    "syn3 = np.loadtxt(\"./../results/A2403.fake/c002.pred\", dtype=str)\n",
    "syn4 = np.loadtxt(\"./../results/A2403.fake/c003.pred\", dtype=str)\n",
    "syn5 = np.loadtxt(\"./../results/A2403.fake/c004.pred\", dtype=str)\n",
    "\n",
    "# Extract the elements\n",
    "peptides = []\n",
    "measures = []\n",
    "preds = []\n",
    "for syn in [syn1, syn2, syn3, syn4, syn5]:\n",
    "    peptides.append(get_element(0, syn))\n",
    "    measures.append(get_element(1, syn))\n",
    "    preds.append(get_element(2, syn))\n",
    "\n",
    "\n",
    "# Performance evaluation\n",
    "\n",
    "# PCC for each model\n",
    "model_perf = []\n",
    "for i in range(len(preds)):\n",
    "    model_perf.append(pearsonr(np.asarray(measures[i]), np.asarray(preds[i]))[0])\n",
    "print(\"PCC of each model:\", np.round(model_perf, 3))\n",
    "print(\"Mean:\", np.round(np.mean(model_perf), 3))\n",
    "print(\"SEM:\", np.round(sem(model_perf), 3))\n",
    "\n",
    "# PCC for concatenated model\n",
    "evel_perf = pearsonr(np.asarray(list(chain(*measures))), np.asarray(list(chain(*preds))))[0]\n",
    "print(\"PCC of concatinated model:\", np.round(evel_perf, 3))"
   ]
  },
  {
   "cell_type": "code",
   "execution_count": null,
   "id": "911037f3",
   "metadata": {},
   "outputs": [],
   "source": []
  }
 ],
 "metadata": {
  "kernelspec": {
   "display_name": "Python 3",
   "language": "python",
   "name": "python3"
  },
  "language_info": {
   "codemirror_mode": {
    "name": "ipython",
    "version": 3
   },
   "file_extension": ".py",
   "mimetype": "text/x-python",
   "name": "python",
   "nbconvert_exporter": "python",
   "pygments_lexer": "ipython3",
   "version": "3.6.13"
  }
 },
 "nbformat": 4,
 "nbformat_minor": 5
}
